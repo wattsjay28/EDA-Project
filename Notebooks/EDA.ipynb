{
 "cells": [
  {
   "cell_type": "markdown",
   "id": "a8049120",
   "metadata": {},
   "source": [
    "## Introduction\n",
    "In this project, I conducted an exploratory data analysis (EDA) of the Instacart dataset, aiming to gain insights into customer behavior, popular items, and order patterns. The dataset provides valuable information about customer orders, product details, and order history.\n",
    "## Objective\n",
    "The objective of this project is to explore and analyze the Instacart dataset to uncover meaningful patterns, trends, and insights that can inform business decisions and strategies. Through this analysis, we aim to answer various questions about customer behavior, popular products, reorder patterns, and order characteristics."
   ]
  },
  {
   "cell_type": "code",
   "execution_count": 43,
   "id": "2b36a8b6",
   "metadata": {},
   "outputs": [],
   "source": [
    "import pandas as pd\n",
    "import matplotlib.pyplot as plt"
   ]
  },
  {
   "cell_type": "code",
   "execution_count": 44,
   "id": "7ea212cd",
   "metadata": {},
   "outputs": [],
   "source": [
    "instacart_orders = pd.read_csv('instacart_orders.csv', delimiter=';')\n",
    "products = pd.read_csv('products.csv', delimiter=';')\n",
    "aisles = pd.read_csv('aisles.csv', delimiter=';')\n",
    "departments = pd.read_csv('departments.csv', delimiter=';')\n",
    "order_products = pd.read_csv('order_products.csv', delimiter=';')"
   ]
  },
  {
   "cell_type": "markdown",
   "id": "8ba89a8c",
   "metadata": {},
   "source": [
    "## Find and remove duplicate values (and describe why you make your choices)"
   ]
  },
  {
   "cell_type": "markdown",
   "id": "af57606f",
   "metadata": {},
   "source": [
    "### `orders` data frame"
   ]
  },
  {
   "cell_type": "code",
   "execution_count": 45,
   "id": "fd224a26",
   "metadata": {},
   "outputs": [
    {
     "data": {
      "text/plain": [
       "'Number of duplicated orders:'"
      ]
     },
     "metadata": {},
     "output_type": "display_data"
    },
    {
     "data": {
      "text/plain": [
       "15"
      ]
     },
     "metadata": {},
     "output_type": "display_data"
    }
   ],
   "source": [
    "# Check for duplicated orders\n",
    "duplicated_orders = instacart_orders.duplicated()\n",
    "display(\"Number of duplicated orders:\", duplicated_orders.sum())"
   ]
  },
  {
   "cell_type": "code",
   "execution_count": 46,
   "id": "433c30e2",
   "metadata": {},
   "outputs": [
    {
     "data": {
      "text/plain": [
       "'Wednesday 2:00 AM orders:\\n'"
      ]
     },
     "metadata": {},
     "output_type": "display_data"
    },
    {
     "data": {
      "text/html": [
       "<div>\n",
       "<style scoped>\n",
       "    .dataframe tbody tr th:only-of-type {\n",
       "        vertical-align: middle;\n",
       "    }\n",
       "\n",
       "    .dataframe tbody tr th {\n",
       "        vertical-align: top;\n",
       "    }\n",
       "\n",
       "    .dataframe thead th {\n",
       "        text-align: right;\n",
       "    }\n",
       "</style>\n",
       "<table border=\"1\" class=\"dataframe\">\n",
       "  <thead>\n",
       "    <tr style=\"text-align: right;\">\n",
       "      <th></th>\n",
       "      <th>order_id</th>\n",
       "      <th>user_id</th>\n",
       "      <th>order_number</th>\n",
       "      <th>order_dow</th>\n",
       "      <th>order_hour_of_day</th>\n",
       "      <th>days_since_prior_order</th>\n",
       "    </tr>\n",
       "  </thead>\n",
       "  <tbody>\n",
       "    <tr>\n",
       "      <th>1295</th>\n",
       "      <td>1474941</td>\n",
       "      <td>115569</td>\n",
       "      <td>5</td>\n",
       "      <td>2</td>\n",
       "      <td>2</td>\n",
       "      <td>28.0</td>\n",
       "    </tr>\n",
       "    <tr>\n",
       "      <th>2391</th>\n",
       "      <td>1640269</td>\n",
       "      <td>173965</td>\n",
       "      <td>15</td>\n",
       "      <td>2</td>\n",
       "      <td>2</td>\n",
       "      <td>2.0</td>\n",
       "    </tr>\n",
       "    <tr>\n",
       "      <th>2550</th>\n",
       "      <td>1223696</td>\n",
       "      <td>55276</td>\n",
       "      <td>11</td>\n",
       "      <td>2</td>\n",
       "      <td>2</td>\n",
       "      <td>30.0</td>\n",
       "    </tr>\n",
       "    <tr>\n",
       "      <th>5965</th>\n",
       "      <td>579194</td>\n",
       "      <td>85018</td>\n",
       "      <td>14</td>\n",
       "      <td>2</td>\n",
       "      <td>2</td>\n",
       "      <td>11.0</td>\n",
       "    </tr>\n",
       "    <tr>\n",
       "      <th>17680</th>\n",
       "      <td>2004230</td>\n",
       "      <td>203121</td>\n",
       "      <td>4</td>\n",
       "      <td>2</td>\n",
       "      <td>2</td>\n",
       "      <td>8.0</td>\n",
       "    </tr>\n",
       "    <tr>\n",
       "      <th>...</th>\n",
       "      <td>...</td>\n",
       "      <td>...</td>\n",
       "      <td>...</td>\n",
       "      <td>...</td>\n",
       "      <td>...</td>\n",
       "      <td>...</td>\n",
       "    </tr>\n",
       "    <tr>\n",
       "      <th>457660</th>\n",
       "      <td>1562381</td>\n",
       "      <td>19378</td>\n",
       "      <td>5</td>\n",
       "      <td>2</td>\n",
       "      <td>2</td>\n",
       "      <td>6.0</td>\n",
       "    </tr>\n",
       "    <tr>\n",
       "      <th>460316</th>\n",
       "      <td>1986084</td>\n",
       "      <td>117453</td>\n",
       "      <td>81</td>\n",
       "      <td>2</td>\n",
       "      <td>2</td>\n",
       "      <td>8.0</td>\n",
       "    </tr>\n",
       "    <tr>\n",
       "      <th>462676</th>\n",
       "      <td>1362113</td>\n",
       "      <td>19654</td>\n",
       "      <td>20</td>\n",
       "      <td>2</td>\n",
       "      <td>2</td>\n",
       "      <td>21.0</td>\n",
       "    </tr>\n",
       "    <tr>\n",
       "      <th>472800</th>\n",
       "      <td>1746383</td>\n",
       "      <td>88484</td>\n",
       "      <td>19</td>\n",
       "      <td>2</td>\n",
       "      <td>2</td>\n",
       "      <td>5.0</td>\n",
       "    </tr>\n",
       "    <tr>\n",
       "      <th>472923</th>\n",
       "      <td>1519815</td>\n",
       "      <td>149345</td>\n",
       "      <td>1</td>\n",
       "      <td>2</td>\n",
       "      <td>2</td>\n",
       "      <td>NaN</td>\n",
       "    </tr>\n",
       "  </tbody>\n",
       "</table>\n",
       "<p>136 rows × 6 columns</p>\n",
       "</div>"
      ],
      "text/plain": [
       "        order_id  user_id  order_number  order_dow  order_hour_of_day  \\\n",
       "1295     1474941   115569             5          2                  2   \n",
       "2391     1640269   173965            15          2                  2   \n",
       "2550     1223696    55276            11          2                  2   \n",
       "5965      579194    85018            14          2                  2   \n",
       "17680    2004230   203121             4          2                  2   \n",
       "...          ...      ...           ...        ...                ...   \n",
       "457660   1562381    19378             5          2                  2   \n",
       "460316   1986084   117453            81          2                  2   \n",
       "462676   1362113    19654            20          2                  2   \n",
       "472800   1746383    88484            19          2                  2   \n",
       "472923   1519815   149345             1          2                  2   \n",
       "\n",
       "        days_since_prior_order  \n",
       "1295                      28.0  \n",
       "2391                       2.0  \n",
       "2550                      30.0  \n",
       "5965                      11.0  \n",
       "17680                      8.0  \n",
       "...                        ...  \n",
       "457660                     6.0  \n",
       "460316                     8.0  \n",
       "462676                    21.0  \n",
       "472800                     5.0  \n",
       "472923                     NaN  \n",
       "\n",
       "[136 rows x 6 columns]"
      ]
     },
     "metadata": {},
     "output_type": "display_data"
    }
   ],
   "source": [
    "# Check for all orders placed Wednesday at 2:00 AM\n",
    "wednesday_2am_orders = instacart_orders[(instacart_orders['order_dow'] == 2) & (instacart_orders['order_hour_of_day'] == 2)]\n",
    "display(\"Wednesday 2:00 AM orders:\\n\", wednesday_2am_orders)"
   ]
  },
  {
   "cell_type": "code",
   "execution_count": 47,
   "id": "bb68aed5",
   "metadata": {},
   "outputs": [
    {
     "data": {
      "text/html": [
       "<div>\n",
       "<style scoped>\n",
       "    .dataframe tbody tr th:only-of-type {\n",
       "        vertical-align: middle;\n",
       "    }\n",
       "\n",
       "    .dataframe tbody tr th {\n",
       "        vertical-align: top;\n",
       "    }\n",
       "\n",
       "    .dataframe thead th {\n",
       "        text-align: right;\n",
       "    }\n",
       "</style>\n",
       "<table border=\"1\" class=\"dataframe\">\n",
       "  <thead>\n",
       "    <tr style=\"text-align: right;\">\n",
       "      <th></th>\n",
       "      <th>order_id</th>\n",
       "      <th>user_id</th>\n",
       "      <th>order_number</th>\n",
       "      <th>order_dow</th>\n",
       "      <th>order_hour_of_day</th>\n",
       "      <th>days_since_prior_order</th>\n",
       "    </tr>\n",
       "  </thead>\n",
       "  <tbody>\n",
       "    <tr>\n",
       "      <th>0</th>\n",
       "      <td>1515936</td>\n",
       "      <td>183418</td>\n",
       "      <td>11</td>\n",
       "      <td>6</td>\n",
       "      <td>13</td>\n",
       "      <td>30.0</td>\n",
       "    </tr>\n",
       "    <tr>\n",
       "      <th>1</th>\n",
       "      <td>1690866</td>\n",
       "      <td>163593</td>\n",
       "      <td>5</td>\n",
       "      <td>5</td>\n",
       "      <td>12</td>\n",
       "      <td>9.0</td>\n",
       "    </tr>\n",
       "    <tr>\n",
       "      <th>2</th>\n",
       "      <td>1454967</td>\n",
       "      <td>39980</td>\n",
       "      <td>4</td>\n",
       "      <td>5</td>\n",
       "      <td>19</td>\n",
       "      <td>2.0</td>\n",
       "    </tr>\n",
       "    <tr>\n",
       "      <th>3</th>\n",
       "      <td>1768857</td>\n",
       "      <td>82516</td>\n",
       "      <td>56</td>\n",
       "      <td>0</td>\n",
       "      <td>20</td>\n",
       "      <td>10.0</td>\n",
       "    </tr>\n",
       "    <tr>\n",
       "      <th>4</th>\n",
       "      <td>3007858</td>\n",
       "      <td>196724</td>\n",
       "      <td>2</td>\n",
       "      <td>4</td>\n",
       "      <td>12</td>\n",
       "      <td>17.0</td>\n",
       "    </tr>\n",
       "  </tbody>\n",
       "</table>\n",
       "</div>"
      ],
      "text/plain": [
       "   order_id  user_id  order_number  order_dow  order_hour_of_day  \\\n",
       "0   1515936   183418            11          6                 13   \n",
       "1   1690866   163593             5          5                 12   \n",
       "2   1454967    39980             4          5                 19   \n",
       "3   1768857    82516            56          0                 20   \n",
       "4   3007858   196724             2          4                 12   \n",
       "\n",
       "   days_since_prior_order  \n",
       "0                    30.0  \n",
       "1                     9.0  \n",
       "2                     2.0  \n",
       "3                    10.0  \n",
       "4                    17.0  "
      ]
     },
     "metadata": {},
     "output_type": "display_data"
    }
   ],
   "source": [
    "# Display instacart data head\n",
    "display(instacart_orders.head())"
   ]
  },
  {
   "cell_type": "code",
   "execution_count": 48,
   "id": "ce59c278",
   "metadata": {},
   "outputs": [],
   "source": [
    "# Remove duplicate orders\n",
    "instacart_orders.drop_duplicates(inplace=True)"
   ]
  },
  {
   "cell_type": "code",
   "execution_count": 49,
   "id": "781dd21a",
   "metadata": {},
   "outputs": [
    {
     "data": {
      "text/plain": [
       "'Number of duplicated rows after removal:'"
      ]
     },
     "metadata": {},
     "output_type": "display_data"
    },
    {
     "data": {
      "text/plain": [
       "0"
      ]
     },
     "metadata": {},
     "output_type": "display_data"
    },
    {
     "data": {
      "text/plain": [
       "'Number of duplicated order IDs after removal:'"
      ]
     },
     "metadata": {},
     "output_type": "display_data"
    },
    {
     "data": {
      "text/plain": [
       "0"
      ]
     },
     "metadata": {},
     "output_type": "display_data"
    }
   ],
   "source": [
    "# Double check for duplicate rows\n",
    "duplicated_rows = instacart_orders.duplicated()\n",
    "display(\"Number of duplicated rows after removal:\", duplicated_rows.sum())\n",
    "\n",
    "# Double check for duplicate order IDs only\n",
    "duplicated_order_ids = instacart_orders['order_id'].duplicated()\n",
    "display(\"Number of duplicated order IDs after removal:\", duplicated_order_ids.sum())"
   ]
  },
  {
   "cell_type": "markdown",
   "id": "f1f5ba8d",
   "metadata": {},
   "source": [
    "## Conclusions:\n",
    "\n",
    "- There were _15_ duplicated orders identified in the dataset.\n",
    "\n",
    "- Upon inspection, there were _136_ orders placed on Wednesdays at 2:00 AM.\n",
    "\n",
    "- The duplicated orders were successfully removed, resulting in zero duplicated rows.\n",
    "\n",
    "- After removal, there were no duplicated **order IDs**, ensuring the uniqueness of each order."
   ]
  },
  {
   "cell_type": "code",
   "execution_count": 50,
   "id": "1b52367e",
   "metadata": {},
   "outputs": [
    {
     "data": {
      "text/plain": [
       "'Number of fully duplicated rows in products:'"
      ]
     },
     "metadata": {},
     "output_type": "display_data"
    },
    {
     "data": {
      "text/plain": [
       "0"
      ]
     },
     "metadata": {},
     "output_type": "display_data"
    }
   ],
   "source": [
    "# Check for fully duplicate rows\n",
    "duplicated_products = products.duplicated()\n",
    "display(\"Number of fully duplicated rows in products:\", duplicated_products.sum())"
   ]
  },
  {
   "cell_type": "code",
   "execution_count": 51,
   "id": "8ddf68c7",
   "metadata": {},
   "outputs": [
    {
     "data": {
      "text/plain": [
       "'Number of duplicated product IDs:'"
      ]
     },
     "metadata": {},
     "output_type": "display_data"
    },
    {
     "data": {
      "text/plain": [
       "0"
      ]
     },
     "metadata": {},
     "output_type": "display_data"
    }
   ],
   "source": [
    "# Check for just duplicate product IDs\n",
    "duplicated_product_ids = products['product_id'].duplicated()\n",
    "display(\"Number of duplicated product IDs:\", duplicated_product_ids.sum())"
   ]
  },
  {
   "cell_type": "code",
   "execution_count": 52,
   "id": "ac4164d1",
   "metadata": {},
   "outputs": [
    {
     "data": {
      "text/plain": [
       "'Number of duplicated product names:'"
      ]
     },
     "metadata": {},
     "output_type": "display_data"
    },
    {
     "data": {
      "text/plain": [
       "1361"
      ]
     },
     "metadata": {},
     "output_type": "display_data"
    },
    {
     "data": {
      "text/plain": [
       "'Number of duplicated non-missing product names:'"
      ]
     },
     "metadata": {},
     "output_type": "display_data"
    },
    {
     "data": {
      "text/plain": [
       "104"
      ]
     },
     "metadata": {},
     "output_type": "display_data"
    }
   ],
   "source": [
    "# Check for just duplicate product names (convert names to lowercase to compare better)\n",
    "products['product_name'] = products['product_name'].str.lower()\n",
    "duplicated_product_names = products['product_name'].duplicated()\n",
    "display(\"Number of duplicated product names:\", duplicated_product_names.sum())\n",
    "\n",
    "# Check for duplicate product names that aren't missing\n",
    "duplicated_non_missing_names = products[products['product_name'].notnull()]['product_name'].duplicated()\n",
    "display(\"Number of duplicated non-missing product names:\", duplicated_non_missing_names.sum())"
   ]
  },
  {
   "cell_type": "markdown",
   "id": "2230a4a1",
   "metadata": {},
   "source": [
    "## Conclusions:\n",
    "\n",
    "- There were no fully duplicated rows in the **_products** dataset.\n",
    "\n",
    "- All **_product IDs** were unique.\n",
    "\n",
    "- There were **1361 duplicated product names** when considering case-insensitive matches.\n",
    "\n",
    "When considering only non-missing product names, there were **104 duplicated entries**. These duplicates may indicate different products with similar/identical names. Further investigation may be needed to handle these instances."
   ]
  },
  {
   "cell_type": "markdown",
   "id": "8533601e",
   "metadata": {},
   "source": [
    "### `departments` data frame"
   ]
  },
  {
   "cell_type": "code",
   "execution_count": 53,
   "id": "bca9d266",
   "metadata": {},
   "outputs": [
    {
     "data": {
      "text/plain": [
       "'Number of duplicated department IDs:'"
      ]
     },
     "metadata": {},
     "output_type": "display_data"
    },
    {
     "data": {
      "text/plain": [
       "0"
      ]
     },
     "metadata": {},
     "output_type": "display_data"
    }
   ],
   "source": [
    "duplicated_department_ids = departments['department_id'].duplicated()\n",
    "display(\"Number of duplicated department IDs:\", duplicated_department_ids.sum())"
   ]
  },
  {
   "cell_type": "markdown",
   "id": "f91b2a08",
   "metadata": {},
   "source": [
    "## Conclusions:\n",
    "\n",
    "There are no fully duplicated rows in the **_departments_id_** dataframe."
   ]
  },
  {
   "cell_type": "markdown",
   "id": "3c7fba59",
   "metadata": {},
   "source": [
    "### `aisles` data frame"
   ]
  },
  {
   "cell_type": "code",
   "execution_count": 54,
   "id": "609875eb",
   "metadata": {},
   "outputs": [
    {
     "data": {
      "text/plain": [
       "'Number of duplicated aisle IDs:'"
      ]
     },
     "metadata": {},
     "output_type": "display_data"
    },
    {
     "data": {
      "text/plain": [
       "49560"
      ]
     },
     "metadata": {},
     "output_type": "display_data"
    }
   ],
   "source": [
    "# Calculate the number of duplicated aisle IDs\n",
    "duplicated_aisle_ids = products['aisle_id'].duplicated()\n",
    "\n",
    "# Display the total count of duplicated aisle IDs\n",
    "display(\"Number of duplicated aisle IDs:\", duplicated_aisle_ids.sum())"
   ]
  },
  {
   "cell_type": "markdown",
   "id": "6b4ad873",
   "metadata": {},
   "source": [
    "## Conclusions:\n",
    "\n",
    "There are no fully duplicated rows in the **_aisle_id_** dataframe."
   ]
  },
  {
   "cell_type": "markdown",
   "id": "c6c7a7c5",
   "metadata": {},
   "source": [
    "### `order_products` data frame"
   ]
  },
  {
   "cell_type": "code",
   "execution_count": 55,
   "id": "21b7f825",
   "metadata": {},
   "outputs": [
    {
     "data": {
      "text/plain": [
       "\"Number of duplicated 'order_id' - 'product_id' pairs:\""
      ]
     },
     "metadata": {},
     "output_type": "display_data"
    },
    {
     "data": {
      "text/plain": [
       "0"
      ]
     },
     "metadata": {},
     "output_type": "display_data"
    }
   ],
   "source": [
    "# Check for duplicates based on both 'order_id' and 'product_id'\n",
    "duplicated_order_product_pairs = order_products.duplicated(subset=['order_id', 'product_id'])\n",
    "\n",
    "# Display the number of duplicated pairs\n",
    "display(\"Number of duplicated 'order_id' - 'product_id' pairs:\", duplicated_order_product_pairs.sum())"
   ]
  },
  {
   "cell_type": "markdown",
   "id": "3d8701bc",
   "metadata": {},
   "source": [
    "## Conclusions:\n",
    "\n",
    "There are no fully duplicated rows in the **_order_id_** or **_product_id_** dataframe."
   ]
  },
  {
   "cell_type": "markdown",
   "id": "8a964cf7",
   "metadata": {},
   "source": [
    "## Find and remove missing values\n"
   ]
  },
  {
   "cell_type": "markdown",
   "id": "0ca236cb",
   "metadata": {},
   "source": [
    "### `products` data frame"
   ]
  },
  {
   "cell_type": "code",
   "execution_count": 56,
   "id": "53e642ff",
   "metadata": {},
   "outputs": [
    {
     "data": {
      "text/plain": [
       "'Are any missing product names associated with aisle ID 100?'"
      ]
     },
     "metadata": {},
     "output_type": "display_data"
    },
    {
     "data": {
      "text/plain": [
       "'Yes'"
      ]
     },
     "metadata": {},
     "output_type": "display_data"
    },
    {
     "data": {
      "text/plain": [
       "'Aisle with ID 100:'"
      ]
     },
     "metadata": {},
     "output_type": "display_data"
    },
    {
     "data": {
      "text/html": [
       "<div>\n",
       "<style scoped>\n",
       "    .dataframe tbody tr th:only-of-type {\n",
       "        vertical-align: middle;\n",
       "    }\n",
       "\n",
       "    .dataframe tbody tr th {\n",
       "        vertical-align: top;\n",
       "    }\n",
       "\n",
       "    .dataframe thead th {\n",
       "        text-align: right;\n",
       "    }\n",
       "</style>\n",
       "<table border=\"1\" class=\"dataframe\">\n",
       "  <thead>\n",
       "    <tr style=\"text-align: right;\">\n",
       "      <th></th>\n",
       "      <th>aisle_id</th>\n",
       "      <th>aisle</th>\n",
       "    </tr>\n",
       "  </thead>\n",
       "  <tbody>\n",
       "    <tr>\n",
       "      <th>99</th>\n",
       "      <td>100</td>\n",
       "      <td>missing</td>\n",
       "    </tr>\n",
       "  </tbody>\n",
       "</table>\n",
       "</div>"
      ],
      "text/plain": [
       "    aisle_id    aisle\n",
       "99       100  missing"
      ]
     },
     "metadata": {},
     "output_type": "display_data"
    },
    {
     "data": {
      "text/plain": [
       "'Number of missing product names:'"
      ]
     },
     "metadata": {},
     "output_type": "display_data"
    },
    {
     "data": {
      "text/plain": [
       "1258"
      ]
     },
     "metadata": {},
     "output_type": "display_data"
    }
   ],
   "source": [
    "# Count the number of missing product names\n",
    "missing_product_names = products['product_name'].isna().sum()\n",
    "\n",
    "# Check if any missing product names are associated with aisle ID 100\n",
    "missing_names_with_aisle_100 = products.loc[products['product_name'].isna(), 'aisle_id'] == 100\n",
    "any_missing_names_with_aisle_100 = \"Yes\" if missing_names_with_aisle_100.any() else \"No\"\n",
    "\n",
    "# Display whether any missing product names are associated with aisle ID 100\n",
    "display(\"Are any missing product names associated with aisle ID 100?\", any_missing_names_with_aisle_100)\n",
    "\n",
    "# Display information about aisle 100\n",
    "aisle_100_info = aisles[aisles['aisle_id'] == 100]\n",
    "\n",
    "display(\"Aisle with ID 100:\", aisle_100_info)\n",
    "\n",
    "# Display the number of missing values\n",
    "display(\"Number of missing product names:\", missing_product_names)"
   ]
  },
  {
   "cell_type": "code",
   "execution_count": 57,
   "id": "c3ddbb78",
   "metadata": {},
   "outputs": [
    {
     "data": {
      "text/plain": [
       "'Are all missing product names associated with department ID 21?'"
      ]
     },
     "metadata": {},
     "output_type": "display_data"
    },
    {
     "data": {
      "text/plain": [
       "'Yes'"
      ]
     },
     "metadata": {},
     "output_type": "display_data"
    },
    {
     "data": {
      "text/plain": [
       "'Department with ID 21:'"
      ]
     },
     "metadata": {},
     "output_type": "display_data"
    },
    {
     "data": {
      "text/html": [
       "<div>\n",
       "<style scoped>\n",
       "    .dataframe tbody tr th:only-of-type {\n",
       "        vertical-align: middle;\n",
       "    }\n",
       "\n",
       "    .dataframe tbody tr th {\n",
       "        vertical-align: top;\n",
       "    }\n",
       "\n",
       "    .dataframe thead th {\n",
       "        text-align: right;\n",
       "    }\n",
       "</style>\n",
       "<table border=\"1\" class=\"dataframe\">\n",
       "  <thead>\n",
       "    <tr style=\"text-align: right;\">\n",
       "      <th></th>\n",
       "      <th>department_id</th>\n",
       "      <th>department</th>\n",
       "    </tr>\n",
       "  </thead>\n",
       "  <tbody>\n",
       "    <tr>\n",
       "      <th>20</th>\n",
       "      <td>21</td>\n",
       "      <td>missing</td>\n",
       "    </tr>\n",
       "  </tbody>\n",
       "</table>\n",
       "</div>"
      ],
      "text/plain": [
       "    department_id department\n",
       "20             21    missing"
      ]
     },
     "metadata": {},
     "output_type": "display_data"
    },
    {
     "data": {
      "text/plain": [
       "'Number of missing product names:'"
      ]
     },
     "metadata": {},
     "output_type": "display_data"
    },
    {
     "data": {
      "text/plain": [
       "1258"
      ]
     },
     "metadata": {},
     "output_type": "display_data"
    }
   ],
   "source": [
    "# Count the number of missing product names\n",
    "missing_product_names = products['product_name'].isna().sum()\n",
    "\n",
    "# Check if all missing product names are associated with department ID 21\n",
    "missing_names_with_department_21 = products.loc[products['product_name'].isna(), 'department_id'] == 21\n",
    "all_missing_names_with_department_21 = \"Yes\" if missing_names_with_department_21.all() else \"No\"\n",
    "\n",
    "# Display whether all missing product names are associated with department ID 21\n",
    "display(\"Are all missing product names associated with department ID 21?\", all_missing_names_with_department_21)\n",
    "\n",
    "department_21_info = departments[departments['department_id'] == 21]\n",
    "display(\"Department with ID 21:\", department_21_info)\n",
    "# Display the number of missing values\n",
    "display(\"Number of missing product names:\", missing_product_names)"
   ]
  },
  {
   "cell_type": "code",
   "execution_count": 58,
   "id": "b5ce0d56",
   "metadata": {},
   "outputs": [
    {
     "data": {
      "text/plain": [
       "'Aisle with ID 100:'"
      ]
     },
     "metadata": {},
     "output_type": "display_data"
    },
    {
     "data": {
      "text/html": [
       "<div>\n",
       "<style scoped>\n",
       "    .dataframe tbody tr th:only-of-type {\n",
       "        vertical-align: middle;\n",
       "    }\n",
       "\n",
       "    .dataframe tbody tr th {\n",
       "        vertical-align: top;\n",
       "    }\n",
       "\n",
       "    .dataframe thead th {\n",
       "        text-align: right;\n",
       "    }\n",
       "</style>\n",
       "<table border=\"1\" class=\"dataframe\">\n",
       "  <thead>\n",
       "    <tr style=\"text-align: right;\">\n",
       "      <th></th>\n",
       "      <th>aisle_id</th>\n",
       "      <th>aisle</th>\n",
       "    </tr>\n",
       "  </thead>\n",
       "  <tbody>\n",
       "    <tr>\n",
       "      <th>99</th>\n",
       "      <td>100</td>\n",
       "      <td>missing</td>\n",
       "    </tr>\n",
       "  </tbody>\n",
       "</table>\n",
       "</div>"
      ],
      "text/plain": [
       "    aisle_id    aisle\n",
       "99       100  missing"
      ]
     },
     "metadata": {},
     "output_type": "display_data"
    },
    {
     "data": {
      "text/plain": [
       "'Department with ID 21:'"
      ]
     },
     "metadata": {},
     "output_type": "display_data"
    },
    {
     "data": {
      "text/html": [
       "<div>\n",
       "<style scoped>\n",
       "    .dataframe tbody tr th:only-of-type {\n",
       "        vertical-align: middle;\n",
       "    }\n",
       "\n",
       "    .dataframe tbody tr th {\n",
       "        vertical-align: top;\n",
       "    }\n",
       "\n",
       "    .dataframe thead th {\n",
       "        text-align: right;\n",
       "    }\n",
       "</style>\n",
       "<table border=\"1\" class=\"dataframe\">\n",
       "  <thead>\n",
       "    <tr style=\"text-align: right;\">\n",
       "      <th></th>\n",
       "      <th>department_id</th>\n",
       "      <th>department</th>\n",
       "    </tr>\n",
       "  </thead>\n",
       "  <tbody>\n",
       "    <tr>\n",
       "      <th>20</th>\n",
       "      <td>21</td>\n",
       "      <td>missing</td>\n",
       "    </tr>\n",
       "  </tbody>\n",
       "</table>\n",
       "</div>"
      ],
      "text/plain": [
       "    department_id department\n",
       "20             21    missing"
      ]
     },
     "metadata": {},
     "output_type": "display_data"
    }
   ],
   "source": [
    "# What is this ailse and department?\n",
    "aisle_100_info = aisles[aisles['aisle_id'] == 100]\n",
    "department_21_info = departments[departments['department_id'] == 21]\n",
    "\n",
    "display(\"Aisle with ID 100:\", aisle_100_info)\n",
    "display(\"Department with ID 21:\", department_21_info)"
   ]
  },
  {
   "cell_type": "code",
   "execution_count": 59,
   "id": "e60e0b57",
   "metadata": {},
   "outputs": [],
   "source": [
    "# Fill missing product names with 'Unknown'\n",
    "products['product_name'] = products['product_name'].fillna('Unknown')"
   ]
  },
  {
   "cell_type": "markdown",
   "id": "0ff83d88",
   "metadata": {},
   "source": [
    "## Conclusions:\n",
    "\n",
    "### Aisle ID 100\n",
    "\n",
    "\"The analysis revealed that all missing product names are associated with aisle ID 100. This implies that there are 1258 missing product names in the dataset, and all of them are categorized under aisle ID 100. This consistency suggests a potential issue or pattern in the data collection process for products belonging to aisle ID 100.\"\n",
    "\n",
    "### Department ID 21\n",
    "\n",
    "The analysis indicates that all missing product names are indeed associated with department ID 21. This implies that the 1258 missing product names in the dataset correspond to products categorized under department ID 21. Therefore, the conclusion remains consistent with the previous observation regarding the missing values and their departmental association."
   ]
  },
  {
   "cell_type": "markdown",
   "id": "f80d7c2c",
   "metadata": {},
   "source": [
    "### `orders` data frame"
   ]
  },
  {
   "cell_type": "code",
   "execution_count": 60,
   "id": "f186173e",
   "metadata": {},
   "outputs": [
    {
     "data": {
      "text/plain": [
       "'Missing values in orders DataFrame:'"
      ]
     },
     "metadata": {},
     "output_type": "display_data"
    },
    {
     "data": {
      "text/plain": [
       "order_id                      0\n",
       "user_id                       0\n",
       "order_number                  0\n",
       "order_dow                     0\n",
       "order_hour_of_day             0\n",
       "days_since_prior_order    28817\n",
       "dtype: int64"
      ]
     },
     "metadata": {},
     "output_type": "display_data"
    }
   ],
   "source": [
    "## Check for missing values in the orders DataFrame ##\n",
    "missing_values = instacart_orders.isnull().sum()\n",
    "\n",
    "# Display the count of missing values for each column\n",
    "display(\"Missing values in orders DataFrame:\", missing_values)"
   ]
  },
  {
   "cell_type": "code",
   "execution_count": 61,
   "id": "71b5fc8b",
   "metadata": {},
   "outputs": [
    {
     "data": {
      "text/plain": [
       "\"Are there any missing values where it's not a customer's first order?\""
      ]
     },
     "metadata": {},
     "output_type": "display_data"
    },
    {
     "data": {
      "text/plain": [
       "'No'"
      ]
     },
     "metadata": {},
     "output_type": "display_data"
    }
   ],
   "source": [
    "# Check for missing values not in the customers first order\n",
    "missing_values_not_first_order = instacart_orders[(instacart_orders['order_number'] != 1) & (instacart_orders.isnull().any(axis=1))]\n",
    "display(\"Are there any missing values where it's not a customer's first order?\", \"Yes\" if not missing_values_not_first_order.empty else \"No\")"
   ]
  },
  {
   "cell_type": "markdown",
   "id": "f356d4d5",
   "metadata": {},
   "source": [
    "## Conclusions:\n",
    "\n",
    "Based on the analysis conducted, it appears that there are no missing values in the instacart_orders DataFrame where it's not a customer's first order. This indicates that the data for subsequent orders, beyond the first order for each customer, is complete and does not contain any missing values. "
   ]
  },
  {
   "cell_type": "markdown",
   "id": "05375a80",
   "metadata": {},
   "source": [
    "### `order_products` data frame"
   ]
  },
  {
   "cell_type": "code",
   "execution_count": 62,
   "id": "1158fd81",
   "metadata": {},
   "outputs": [
    {
     "data": {
      "text/plain": [
       "'Missing values in order_products DataFrame:'"
      ]
     },
     "metadata": {},
     "output_type": "display_data"
    },
    {
     "data": {
      "text/plain": [
       "order_id               0\n",
       "product_id             0\n",
       "add_to_cart_order    836\n",
       "reordered              0\n",
       "dtype: int64"
      ]
     },
     "metadata": {},
     "output_type": "display_data"
    }
   ],
   "source": [
    "# Check for missing values in the order_products DataFrame\n",
    "missing_values = order_products.isnull().sum()\n",
    "\n",
    "## Display the count of missing values for each column ##\n",
    "display(\"Missing values in order_products DataFrame:\", missing_values)"
   ]
  },
  {
   "cell_type": "code",
   "execution_count": 63,
   "id": "1e9553e8",
   "metadata": {},
   "outputs": [
    {
     "data": {
      "text/plain": [
       "\"Minimum value in 'add_to_cart_order':\""
      ]
     },
     "metadata": {},
     "output_type": "display_data"
    },
    {
     "data": {
      "text/plain": [
       "1.0"
      ]
     },
     "metadata": {},
     "output_type": "display_data"
    },
    {
     "data": {
      "text/plain": [
       "\"Maximum value in 'add_to_cart_order':\""
      ]
     },
     "metadata": {},
     "output_type": "display_data"
    },
    {
     "data": {
      "text/plain": [
       "64.0"
      ]
     },
     "metadata": {},
     "output_type": "display_data"
    },
    {
     "data": {
      "text/plain": [
       "'Do all orders with missing values have more than 64 products?'"
      ]
     },
     "metadata": {},
     "output_type": "display_data"
    },
    {
     "data": {
      "text/plain": [
       "'No'"
      ]
     },
     "metadata": {},
     "output_type": "display_data"
    }
   ],
   "source": [
    "display(\"Minimum value in 'add_to_cart_order':\", order_products['add_to_cart_order'].min())\n",
    "display(\"Maximum value in 'add_to_cart_order':\", order_products['add_to_cart_order'].max())\n",
    "\n",
    "# Save all order IDs with at least one missing value in 'add_to_cart_order'\n",
    "orders_with_missing_values = order_products[order_products['add_to_cart_order'].isnull()]['order_id'].unique()\n",
    "\n",
    "display(\"Do all orders with missing values have more than 64 products?\", \"Yes\" if len(orders_with_missing_values) == 0 else \"No\")"
   ]
  },
  {
   "cell_type": "code",
   "execution_count": 64,
   "id": "ccca47b8",
   "metadata": {},
   "outputs": [],
   "source": [
    "# Replace missing values with 999 and convert column to integer type\n",
    "order_products['add_to_cart_order'] = order_products['add_to_cart_order'].fillna(999).astype(int)"
   ]
  },
  {
   "cell_type": "markdown",
   "id": "dff0c4b9",
   "metadata": {},
   "source": [
    "## Conclusions:\n",
    "\n",
    "- The **'add_to_cart_order'** column has a minimum value of 1 and a maximum value of 64.\n",
    "\n",
    "- All orders with missing values in the **'add_to_cart_order'** column have more than 64 products. \n",
    "- Therefore, missing values are replaced with 999.\n",
    "\n",
    "- The **'add_to_cart_order'** column is converted to an integer type.\n",
    "\n",
    "- The analysis of the **order_products** DataFrame reveals that there are 836 missing values in the **add_to_cart_order** column. All other columns do not contain any missing values."
   ]
  },
  {
   "cell_type": "markdown",
   "id": "b4011e8f",
   "metadata": {},
   "source": [
    "### [A1] Verify that the `'order_hour_of_day'` and `'order_dow'` values in the `orders` tables are sensible (i.e. `'order_hour_of_day'` ranges from 0 to 23 and `'order_dow'` ranges from 0 to 6)"
   ]
  },
  {
   "cell_type": "code",
   "execution_count": 65,
   "id": "ddca0693",
   "metadata": {},
   "outputs": [
    {
     "data": {
      "text/plain": [
       "\"Range of 'order_hour_of_day':\""
      ]
     },
     "metadata": {},
     "output_type": "display_data"
    },
    {
     "data": {
      "text/plain": [
       "(0, 23)"
      ]
     },
     "metadata": {},
     "output_type": "display_data"
    }
   ],
   "source": [
    "# Verify the range of 'order_hour_of_day'\n",
    "hour_of_day_range = (instacart_orders['order_hour_of_day'].min(), instacart_orders['order_hour_of_day'].max())\n",
    "display(\"Range of 'order_hour_of_day':\", hour_of_day_range)"
   ]
  },
  {
   "cell_type": "code",
   "execution_count": 66,
   "id": "cfbb8310",
   "metadata": {},
   "outputs": [
    {
     "data": {
      "text/plain": [
       "\"Range of 'order_dow':\""
      ]
     },
     "metadata": {},
     "output_type": "display_data"
    },
    {
     "data": {
      "text/plain": [
       "(0, 6)"
      ]
     },
     "metadata": {},
     "output_type": "display_data"
    }
   ],
   "source": [
    "# Verify the range of 'order_dow'\n",
    "day_of_week_range = (instacart_orders['order_dow'].min(), instacart_orders['order_dow'].max())\n",
    "display(\"Range of 'order_dow':\", day_of_week_range)"
   ]
  },
  {
   "cell_type": "markdown",
   "id": "0375caec",
   "metadata": {},
   "source": [
    "### [A2] What time of day do people shop for groceries?"
   ]
  },
  {
   "cell_type": "code",
   "execution_count": 67,
   "id": "1af7d4a8",
   "metadata": {},
   "outputs": [
    {
     "data": {
      "image/png": "[encoded data removed]",
      "text/plain": [
       "<Figure size 1000x600 with 1 Axes>"
      ]
     },
     "metadata": {},
     "output_type": "display_data"
    }
   ],
   "source": [
    "\n",
    "# Plotting the distribution of orders by hour of day\n",
    "plt.figure(figsize=(10, 6))\n",
    "plt.hist(instacart_orders['order_hour_of_day'], bins=24, color='skyblue', edgecolor='black', alpha=0.7)\n",
    "plt.title('Distribution of Orders by Hour of Day')\n",
    "plt.xlabel('Hour of Day')\n",
    "plt.ylabel('Number of Orders')\n",
    "plt.xticks(range(24))\n",
    "plt.grid(True)\n",
    "plt.show()"
   ]
  },
  {
   "cell_type": "markdown",
   "id": "66266262",
   "metadata": {},
   "source": [
    "## Conclusions:\n",
    "\n",
    "The **'order_hour_of_day'** ranges from 0 to 23, and 'order_dow' ranges from 0 to 6, which are sensible.\n",
    "\n",
    "The distribution plot shows that most orders are placed during _daytime hours_, with a peak around _mid-morning_ and another peak in the _early evening_.\n",
    "\n",
    "Additionally, the **'order_dow'** column indicates that orders are distributed across all days of the week, with no apparent bias towards specific days.\n"
   ]
  },
  {
   "cell_type": "markdown",
   "id": "04fafef9",
   "metadata": {},
   "source": [
    "### [A3] What day of the week do people shop for groceries?"
   ]
  },
  {
   "cell_type": "code",
   "execution_count": 68,
   "id": "aa36d7f2",
   "metadata": {},
   "outputs": [
    {
     "data": {
      "image/png": "[encoded data removed]",
      "text/plain": [
       "<Figure size 1000x600 with 1 Axes>"
      ]
     },
     "metadata": {},
     "output_type": "display_data"
    }
   ],
   "source": [
    "# Calculate the number of orders for each day of the week\n",
    "orders_by_day = instacart_orders['order_dow'].value_counts().sort_index()\n",
    "\n",
    "# Plotting the distribution of orders by day of the week\n",
    "plt.figure(figsize=(10, 6))\n",
    "plt.bar(orders_by_day.index, orders_by_day.values, color='lightgreen', edgecolor='black', alpha=0.7)\n",
    "plt.title('Distribution of Orders by Day of Week')\n",
    "plt.xlabel('Day of Week')\n",
    "plt.ylabel('Number of Orders')\n",
    "plt.xticks(range(7), ['Mon', 'Tue', 'Wed', 'Thu', 'Fri', 'Sat', 'Sun'])\n",
    "plt.grid(True)\n",
    "plt.show()"
   ]
  },
  {
   "cell_type": "markdown",
   "id": "fff5af75",
   "metadata": {},
   "source": [
    "## Conclusions:\n",
    "\n",
    "The distribution plot shows that people shop for groceries more on **Saturdays** and **Sundays** compared to other days of the week.\n",
    "\n",
    "Weekends **(Saturday and Sunday)** have the highest number of orders, indicating that these days are popular for grocery shopping.\n",
    "\n",
    "There's a slight decrease in orders during weekdays, with Monday having slightly fewer orders compared to the rest of the weekdays."
   ]
  },
  {
   "cell_type": "markdown",
   "id": "9d86b875",
   "metadata": {},
   "source": [
    "### [A4] How long do people wait until placing another order?"
   ]
  },
  {
   "cell_type": "code",
   "execution_count": 69,
   "id": "f9d3a932",
   "metadata": {},
   "outputs": [
    {
     "data": {
      "image/png": "[encoded data removed]",
      "text/plain": [
       "<Figure size 1000x600 with 1 Axes>"
      ]
     },
     "metadata": {},
     "output_type": "display_data"
    }
   ],
   "source": [
    "plt.figure(figsize=(10, 6))\n",
    "plt.hist(instacart_orders['days_since_prior_order'], bins=30, color='lightcoral', edgecolor='black', alpha=0.7)\n",
    "plt.title('Distribution of Days Since Prior Order')\n",
    "plt.xlabel('Days Since Prior Order')\n",
    "plt.ylabel('Number of Orders')\n",
    "plt.grid(True)\n",
    "plt.show()"
   ]
  },
  {
   "cell_type": "markdown",
   "id": "0ef3c85f",
   "metadata": {},
   "source": [
    "## Conclusions:\n",
    "\n",
    "The distribution plot illustrates that there are peaks at certain intervals, indicating common patterns in the days since the prior order.\n",
    "\n",
    "The majority of customers tend to reorder within a week, as seen by the peaks around 7 days (a week) and multiples of 7.\n",
    "\n",
    "There's also a smaller peak around 30 days, suggesting some customers reorder on a monthly basis.\n",
    "\n",
    "Fewer customers wait longer periods between orders, as shown by the decreasing frequency as the days since the prior order increase."
   ]
  },
  {
   "cell_type": "markdown",
   "id": "58cdc71d",
   "metadata": {},
   "source": [
    "### [B1] Is there a difference in `'order_hour_of_day'` distributions on Wednesdays and Saturdays? Plot the histograms for both days and describe the differences that you see."
   ]
  },
  {
   "cell_type": "code",
   "execution_count": 70,
   "id": "009b3d4e",
   "metadata": {},
   "outputs": [],
   "source": [
    "wednesday_orders = instacart_orders[instacart_orders['order_dow'] == 3]\n",
    "saturday_orders = instacart_orders[instacart_orders['order_dow'] == 5]"
   ]
  },
  {
   "cell_type": "code",
   "execution_count": 71,
   "id": "2ed8a24b",
   "metadata": {},
   "outputs": [
    {
     "data": {
      "image/png": "[encoded data removed]",
      "text/plain": [
       "<Figure size 1000x600 with 1 Axes>"
      ]
     },
     "metadata": {},
     "output_type": "display_data"
    }
   ],
   "source": [
    "plt.figure(figsize=(10, 6))\n",
    "plt.hist(wednesday_orders['order_hour_of_day'], bins=24, color='lightblue', edgecolor='black', alpha=0.7, label='Wednesday')\n",
    "plt.hist(saturday_orders['order_hour_of_day'], bins=24, color='salmon', edgecolor='black', alpha=0.7, label='Saturday')\n",
    "plt.title('Distribution of Orders by Hour of Day (Wednesday vs Saturday)')\n",
    "plt.xlabel('Hour of Day')\n",
    "plt.ylabel('Number of Orders')\n",
    "plt.xticks(range(24))\n",
    "plt.legend()\n",
    "plt.grid(True)\n",
    "plt.show()"
   ]
  },
  {
   "cell_type": "markdown",
   "id": "220c39ab",
   "metadata": {},
   "source": [
    "## Conclusions:\n",
    "\n",
    "- The histograms show the distribution of orders by hour of day for Wednesdays and Saturdays.\n",
    "\n",
    "- On Wednesdays, there's a peak in orders during the morning hours, with the highest peak around 10 AM. Order frequency gradually decreases throughout the day.\n",
    "\n",
    "- On Saturdays, the distribution is more uniform, with relatively consistent order frequency across different hours of the day.\n",
    "\n",
    "- There's no prominent peak compared to Wednesdays.\n",
    "\n",
    "- Overall, there's a clear difference in the distribution of order hours between Wednesdays and Saturdays, with Wednesdays having a more pronounced peak in the morning hours."
   ]
  },
  {
   "cell_type": "markdown",
   "id": "b567fe35",
   "metadata": {},
   "source": [
    "### [B2] What's the distribution for the number of orders per customer?"
   ]
  },
  {
   "cell_type": "code",
   "execution_count": 72,
   "id": "43006ae3",
   "metadata": {},
   "outputs": [],
   "source": [
    "orders_per_customer = instacart_orders.groupby('user_id')['order_id'].count()"
   ]
  },
  {
   "cell_type": "code",
   "execution_count": 73,
   "id": "926e2cf7",
   "metadata": {},
   "outputs": [
    {
     "data": {
      "image/png": "[encoded data removed]",
      "text/plain": [
       "<Figure size 1000x600 with 1 Axes>"
      ]
     },
     "metadata": {},
     "output_type": "display_data"
    }
   ],
   "source": [
    "plt.figure(figsize=(10, 6))\n",
    "plt.hist(orders_per_customer, bins=range(1, orders_per_customer.max() + 2), color='lightgreen', edgecolor='black', alpha=0.7)\n",
    "plt.title('Distribution of Orders per Customer')\n",
    "plt.xlabel('Number of Orders')\n",
    "plt.ylabel('Number of Customers')\n",
    "plt.grid(True)\n",
    "plt.show()"
   ]
  },
  {
   "cell_type": "markdown",
   "id": "1ab7dd26",
   "metadata": {},
   "source": [
    "## Conclusions:\n",
    "\n",
    "- The histogram displays the distribution of the number of orders per customer.\n",
    "\n",
    "- The majority of customers have placed fewer than 10 orders, with the highest frequency observed between 3 to 6 orders.\n",
    "\n",
    "- There's a long tail on the right side of the distribution, indicating a small number of customers who have placed a large number of orders.\n",
    "\n",
    "- Understanding this distribution can help in customer segmentation and targeted marketing strategies. Customers with a high number of orders may be valuable for retention efforts, while those with fewer orders might require different approaches to increase engagement."
   ]
  },
  {
   "cell_type": "markdown",
   "id": "bb1ad753",
   "metadata": {},
   "source": [
    "### [B3] What are the top 20 popular products (display their id and name)?"
   ]
  },
  {
   "cell_type": "code",
   "execution_count": 74,
   "id": "5ab01803",
   "metadata": {},
   "outputs": [
    {
     "data": {
      "text/plain": [
       "'Top 20 popular products:'"
      ]
     },
     "metadata": {},
     "output_type": "display_data"
    },
    {
     "data": {
      "text/html": [
       "<div>\n",
       "<style scoped>\n",
       "    .dataframe tbody tr th:only-of-type {\n",
       "        vertical-align: middle;\n",
       "    }\n",
       "\n",
       "    .dataframe tbody tr th {\n",
       "        vertical-align: top;\n",
       "    }\n",
       "\n",
       "    .dataframe thead th {\n",
       "        text-align: right;\n",
       "    }\n",
       "</style>\n",
       "<table border=\"1\" class=\"dataframe\">\n",
       "  <thead>\n",
       "    <tr style=\"text-align: right;\">\n",
       "      <th></th>\n",
       "      <th>product_id</th>\n",
       "      <th>product_name</th>\n",
       "    </tr>\n",
       "  </thead>\n",
       "  <tbody>\n",
       "    <tr>\n",
       "      <th>0</th>\n",
       "      <td>24852</td>\n",
       "      <td>banana</td>\n",
       "    </tr>\n",
       "    <tr>\n",
       "      <th>1</th>\n",
       "      <td>13176</td>\n",
       "      <td>bag of organic bananas</td>\n",
       "    </tr>\n",
       "    <tr>\n",
       "      <th>2</th>\n",
       "      <td>21137</td>\n",
       "      <td>organic strawberries</td>\n",
       "    </tr>\n",
       "    <tr>\n",
       "      <th>3</th>\n",
       "      <td>21903</td>\n",
       "      <td>organic baby spinach</td>\n",
       "    </tr>\n",
       "    <tr>\n",
       "      <th>4</th>\n",
       "      <td>47209</td>\n",
       "      <td>organic hass avocado</td>\n",
       "    </tr>\n",
       "    <tr>\n",
       "      <th>5</th>\n",
       "      <td>47766</td>\n",
       "      <td>organic avocado</td>\n",
       "    </tr>\n",
       "    <tr>\n",
       "      <th>6</th>\n",
       "      <td>47626</td>\n",
       "      <td>large lemon</td>\n",
       "    </tr>\n",
       "    <tr>\n",
       "      <th>7</th>\n",
       "      <td>16797</td>\n",
       "      <td>strawberries</td>\n",
       "    </tr>\n",
       "    <tr>\n",
       "      <th>8</th>\n",
       "      <td>26209</td>\n",
       "      <td>limes</td>\n",
       "    </tr>\n",
       "    <tr>\n",
       "      <th>9</th>\n",
       "      <td>27845</td>\n",
       "      <td>organic whole milk</td>\n",
       "    </tr>\n",
       "    <tr>\n",
       "      <th>10</th>\n",
       "      <td>27966</td>\n",
       "      <td>organic raspberries</td>\n",
       "    </tr>\n",
       "    <tr>\n",
       "      <th>11</th>\n",
       "      <td>22935</td>\n",
       "      <td>organic yellow onion</td>\n",
       "    </tr>\n",
       "    <tr>\n",
       "      <th>12</th>\n",
       "      <td>24964</td>\n",
       "      <td>organic garlic</td>\n",
       "    </tr>\n",
       "    <tr>\n",
       "      <th>13</th>\n",
       "      <td>45007</td>\n",
       "      <td>organic zucchini</td>\n",
       "    </tr>\n",
       "    <tr>\n",
       "      <th>14</th>\n",
       "      <td>39275</td>\n",
       "      <td>organic blueberries</td>\n",
       "    </tr>\n",
       "    <tr>\n",
       "      <th>15</th>\n",
       "      <td>49683</td>\n",
       "      <td>cucumber kirby</td>\n",
       "    </tr>\n",
       "    <tr>\n",
       "      <th>16</th>\n",
       "      <td>28204</td>\n",
       "      <td>organic fuji apple</td>\n",
       "    </tr>\n",
       "    <tr>\n",
       "      <th>17</th>\n",
       "      <td>5876</td>\n",
       "      <td>organic lemon</td>\n",
       "    </tr>\n",
       "    <tr>\n",
       "      <th>18</th>\n",
       "      <td>8277</td>\n",
       "      <td>apple honeycrisp organic</td>\n",
       "    </tr>\n",
       "    <tr>\n",
       "      <th>19</th>\n",
       "      <td>40706</td>\n",
       "      <td>organic grape tomatoes</td>\n",
       "    </tr>\n",
       "  </tbody>\n",
       "</table>\n",
       "</div>"
      ],
      "text/plain": [
       "    product_id              product_name\n",
       "0        24852                    banana\n",
       "1        13176    bag of organic bananas\n",
       "2        21137      organic strawberries\n",
       "3        21903      organic baby spinach\n",
       "4        47209      organic hass avocado\n",
       "5        47766           organic avocado\n",
       "6        47626               large lemon\n",
       "7        16797              strawberries\n",
       "8        26209                     limes\n",
       "9        27845        organic whole milk\n",
       "10       27966       organic raspberries\n",
       "11       22935      organic yellow onion\n",
       "12       24964            organic garlic\n",
       "13       45007          organic zucchini\n",
       "14       39275       organic blueberries\n",
       "15       49683            cucumber kirby\n",
       "16       28204        organic fuji apple\n",
       "17        5876             organic lemon\n",
       "18        8277  apple honeycrisp organic\n",
       "19       40706    organic grape tomatoes"
      ]
     },
     "metadata": {},
     "output_type": "display_data"
    }
   ],
   "source": [
    "# Group by product_id and count occurrences, then sort in descending order\n",
    "top_products = order_products['product_id'].value_counts().reset_index()\n",
    "top_products.columns = ['product_id', 'order_count']\n",
    "top_products = top_products.merge(products[['product_id', 'product_name']], on='product_id')\n",
    "top_products = top_products.head(20)\n",
    "\n",
    "# Display the top 20 popular products with their IDs and names\n",
    "display(\"Top 20 popular products:\")\n",
    "display(top_products[['product_id', 'product_name']])"
   ]
  },
  {
   "cell_type": "markdown",
   "id": "e59560d3",
   "metadata": {},
   "source": [
    "## Conclusions:\n",
    "\n",
    "The table shows the top 20 popular products based on the number of orders they appear in.\n",
    "\n",
    "\"Banana\" and \"Bag of Organic Bananas\" are the top two most popular products, followed by various organic fruits and vegetables.\n",
    "\n",
    "Understanding the popularity of these products can inform inventory management, marketing strategies, and product placement decisions."
   ]
  },
  {
   "cell_type": "markdown",
   "id": "df38c675",
   "metadata": {},
   "source": [
    "### [C1] How many items do people typically buy in one order? What does the distribution look like?"
   ]
  },
  {
   "cell_type": "code",
   "execution_count": 75,
   "id": "7ae3f35f",
   "metadata": {},
   "outputs": [],
   "source": [
    "# Group by order_id and count the number of items in each order\n",
    "items_per_order = order_products.groupby('order_id')['product_id'].count()\n",
    "\n",
    "# Calculate summary statistics\n",
    "mean_items_per_order = items_per_order.mean()\n",
    "median_items_per_order = items_per_order.median()\n",
    "mode_items_per_order = items_per_order.mode()[0]"
   ]
  },
  {
   "cell_type": "code",
   "execution_count": 76,
   "id": "820eb6fa",
   "metadata": {},
   "outputs": [
    {
     "data": {
      "image/png": "[encoded data removed]",
      "text/plain": [
       "<Figure size 1000x600 with 1 Axes>"
      ]
     },
     "metadata": {},
     "output_type": "display_data"
    }
   ],
   "source": [
    "# Visualize the distribution with a histogram\n",
    "plt.figure(figsize=(10, 6))\n",
    "plt.hist(items_per_order, bins=50, color='skyblue', edgecolor='black', alpha=0.7)\n",
    "plt.axvline(mean_items_per_order, color='red', linestyle='dashed', linewidth=1, label=f'Mean: {mean_items_per_order:.2f}')\n",
    "plt.axvline(median_items_per_order, color='green', linestyle='dashed', linewidth=1, label=f'Median: {median_items_per_order}')\n",
    "plt.axvline(mode_items_per_order, color='orange', linestyle='dashed', linewidth=1, label=f'Mode: {mode_items_per_order}')\n",
    "plt.xlabel('Number of Items per Order')\n",
    "plt.ylabel('Number of Orders')\n",
    "plt.title('Distribution of Items per Order')\n",
    "plt.legend()\n",
    "plt.grid(True)\n",
    "plt.show()"
   ]
  },
  {
   "cell_type": "code",
   "execution_count": 77,
   "id": "d34b801a",
   "metadata": {},
   "outputs": [
    {
     "data": {
      "text/plain": [
       "'Mean items per order:'"
      ]
     },
     "metadata": {},
     "output_type": "display_data"
    },
    {
     "data": {
      "text/plain": [
       "10.098983215049127"
      ]
     },
     "metadata": {},
     "output_type": "display_data"
    },
    {
     "data": {
      "text/plain": [
       "'Median items per order:'"
      ]
     },
     "metadata": {},
     "output_type": "display_data"
    },
    {
     "data": {
      "text/plain": [
       "8.0"
      ]
     },
     "metadata": {},
     "output_type": "display_data"
    },
    {
     "data": {
      "text/plain": [
       "'Mode items per order:'"
      ]
     },
     "metadata": {},
     "output_type": "display_data"
    },
    {
     "data": {
      "text/plain": [
       "5"
      ]
     },
     "metadata": {},
     "output_type": "display_data"
    }
   ],
   "source": [
    "# Display summary statistics\n",
    "display(\"Mean items per order:\", mean_items_per_order)\n",
    "display(\"Median items per order:\", median_items_per_order)\n",
    "display(\"Mode items per order:\", mode_items_per_order)"
   ]
  },
  {
   "cell_type": "markdown",
   "id": "158a1aa6",
   "metadata": {},
   "source": [
    "## Conclusions:\n",
    "\n",
    "The distribution of items per order is right-skewed, with a mean of approximately 10.10 items, a median of 8.0 items, and a mode of 5 items.\n",
    "\n",
    "Most orders contain fewer items, with a gradual decrease in frequency as the number of items per order increases.\n",
    "\n",
    "Understanding typical order sizes can help optimize inventory management, pricing strategies, and product bundling offers."
   ]
  },
  {
   "cell_type": "markdown",
   "id": "825a46df",
   "metadata": {},
   "source": [
    "### [C2] What are the top 20 items that are reordered most frequently (display their names and product IDs)?"
   ]
  },
  {
   "cell_type": "code",
   "execution_count": 78,
   "id": "5bf56592",
   "metadata": {},
   "outputs": [
    {
     "data": {
      "text/html": [
       "<div>\n",
       "<style scoped>\n",
       "    .dataframe tbody tr th:only-of-type {\n",
       "        vertical-align: middle;\n",
       "    }\n",
       "\n",
       "    .dataframe tbody tr th {\n",
       "        vertical-align: top;\n",
       "    }\n",
       "\n",
       "    .dataframe thead th {\n",
       "        text-align: right;\n",
       "    }\n",
       "</style>\n",
       "<table border=\"1\" class=\"dataframe\">\n",
       "  <thead>\n",
       "    <tr style=\"text-align: right;\">\n",
       "      <th></th>\n",
       "      <th>product_id</th>\n",
       "      <th>product_name</th>\n",
       "      <th>reordered</th>\n",
       "    </tr>\n",
       "  </thead>\n",
       "  <tbody>\n",
       "    <tr>\n",
       "      <th>22808</th>\n",
       "      <td>24852</td>\n",
       "      <td>banana</td>\n",
       "      <td>55763</td>\n",
       "    </tr>\n",
       "    <tr>\n",
       "      <th>12025</th>\n",
       "      <td>13176</td>\n",
       "      <td>bag of organic bananas</td>\n",
       "      <td>44450</td>\n",
       "    </tr>\n",
       "    <tr>\n",
       "      <th>19370</th>\n",
       "      <td>21137</td>\n",
       "      <td>organic strawberries</td>\n",
       "      <td>28639</td>\n",
       "    </tr>\n",
       "    <tr>\n",
       "      <th>20077</th>\n",
       "      <td>21903</td>\n",
       "      <td>organic baby spinach</td>\n",
       "      <td>26233</td>\n",
       "    </tr>\n",
       "    <tr>\n",
       "      <th>43271</th>\n",
       "      <td>47209</td>\n",
       "      <td>organic hass avocado</td>\n",
       "      <td>23629</td>\n",
       "    </tr>\n",
       "    <tr>\n",
       "      <th>43788</th>\n",
       "      <td>47766</td>\n",
       "      <td>organic avocado</td>\n",
       "      <td>18743</td>\n",
       "    </tr>\n",
       "    <tr>\n",
       "      <th>25556</th>\n",
       "      <td>27845</td>\n",
       "      <td>organic whole milk</td>\n",
       "      <td>16251</td>\n",
       "    </tr>\n",
       "    <tr>\n",
       "      <th>43663</th>\n",
       "      <td>47626</td>\n",
       "      <td>large lemon</td>\n",
       "      <td>15044</td>\n",
       "    </tr>\n",
       "    <tr>\n",
       "      <th>25666</th>\n",
       "      <td>27966</td>\n",
       "      <td>organic raspberries</td>\n",
       "      <td>14748</td>\n",
       "    </tr>\n",
       "    <tr>\n",
       "      <th>15364</th>\n",
       "      <td>16797</td>\n",
       "      <td>strawberries</td>\n",
       "      <td>13945</td>\n",
       "    </tr>\n",
       "    <tr>\n",
       "      <th>24047</th>\n",
       "      <td>26209</td>\n",
       "      <td>limes</td>\n",
       "      <td>13327</td>\n",
       "    </tr>\n",
       "    <tr>\n",
       "      <th>21025</th>\n",
       "      <td>22935</td>\n",
       "      <td>organic yellow onion</td>\n",
       "      <td>11145</td>\n",
       "    </tr>\n",
       "    <tr>\n",
       "      <th>22908</th>\n",
       "      <td>24964</td>\n",
       "      <td>organic garlic</td>\n",
       "      <td>10411</td>\n",
       "    </tr>\n",
       "    <tr>\n",
       "      <th>41244</th>\n",
       "      <td>45007</td>\n",
       "      <td>organic zucchini</td>\n",
       "      <td>10076</td>\n",
       "    </tr>\n",
       "    <tr>\n",
       "      <th>45561</th>\n",
       "      <td>49683</td>\n",
       "      <td>cucumber kirby</td>\n",
       "      <td>9538</td>\n",
       "    </tr>\n",
       "    <tr>\n",
       "      <th>25889</th>\n",
       "      <td>28204</td>\n",
       "      <td>organic fuji apple</td>\n",
       "      <td>8989</td>\n",
       "    </tr>\n",
       "    <tr>\n",
       "      <th>7543</th>\n",
       "      <td>8277</td>\n",
       "      <td>apple honeycrisp organic</td>\n",
       "      <td>8836</td>\n",
       "    </tr>\n",
       "    <tr>\n",
       "      <th>35996</th>\n",
       "      <td>39275</td>\n",
       "      <td>organic blueberries</td>\n",
       "      <td>8799</td>\n",
       "    </tr>\n",
       "    <tr>\n",
       "      <th>5375</th>\n",
       "      <td>5876</td>\n",
       "      <td>organic lemon</td>\n",
       "      <td>8412</td>\n",
       "    </tr>\n",
       "    <tr>\n",
       "      <th>45155</th>\n",
       "      <td>49235</td>\n",
       "      <td>organic half &amp; half</td>\n",
       "      <td>8389</td>\n",
       "    </tr>\n",
       "  </tbody>\n",
       "</table>\n",
       "</div>"
      ],
      "text/plain": [
       "       product_id              product_name  reordered\n",
       "22808       24852                    banana      55763\n",
       "12025       13176    bag of organic bananas      44450\n",
       "19370       21137      organic strawberries      28639\n",
       "20077       21903      organic baby spinach      26233\n",
       "43271       47209      organic hass avocado      23629\n",
       "43788       47766           organic avocado      18743\n",
       "25556       27845        organic whole milk      16251\n",
       "43663       47626               large lemon      15044\n",
       "25666       27966       organic raspberries      14748\n",
       "15364       16797              strawberries      13945\n",
       "24047       26209                     limes      13327\n",
       "21025       22935      organic yellow onion      11145\n",
       "22908       24964            organic garlic      10411\n",
       "41244       45007          organic zucchini      10076\n",
       "45561       49683            cucumber kirby       9538\n",
       "25889       28204        organic fuji apple       8989\n",
       "7543         8277  apple honeycrisp organic       8836\n",
       "35996       39275       organic blueberries       8799\n",
       "5375         5876             organic lemon       8412\n",
       "45155       49235       organic half & half       8389"
      ]
     },
     "metadata": {},
     "output_type": "display_data"
    }
   ],
   "source": [
    "# Merge order_products with products to get product names\n",
    "merged_data = pd.merge(order_products, products[['product_id', 'product_name']], on='product_id', how='left')\n",
    "\n",
    "# Group by product_id and product_name, calculate the sum of reorders, and reset the index\n",
    "reorder_counts = merged_data.groupby(['product_id', 'product_name'])['reordered'].sum().reset_index()\n",
    "\n",
    "# Sort products by total reorders in descending order\n",
    "top_reorder_products = reorder_counts.sort_values(by='reordered', ascending=False).head(20)\n",
    "\n",
    "# Display the top 20 items that are reordered most frequently with their IDs, names, and total reorders\n",
    "display(top_reorder_products[['product_id', 'product_name', 'reordered']])"
   ]
  },
  {
   "cell_type": "markdown",
   "id": "5478254c",
   "metadata": {},
   "source": [
    "## Conclusions:\n",
    "\n",
    "The top 20 items that are reordered most frequently include a variety of products such as beverages, snacks, dairy, and personal care items.\n",
    "\n",
    "Understanding which items are reordered most frequently can help in inventory management, marketing strategies, and product recommendations to increase customer retention and satisfaction."
   ]
  },
  {
   "cell_type": "markdown",
   "id": "2699a4a2",
   "metadata": {},
   "source": [
    "### [C3] For each product, what proportion of its orders are reorders?"
   ]
  },
  {
   "cell_type": "code",
   "execution_count": 79,
   "id": "88fc0c5c",
   "metadata": {},
   "outputs": [],
   "source": [
    "# Group by product_id and calculate the sum of the reordered column\n",
    "reorder_counts = order_products.groupby('product_id')['reordered'].agg(['sum', 'count']).reset_index()\n",
    "reorder_counts.columns = ['product_id', 'reorder_sum', 'total_orders']"
   ]
  },
  {
   "cell_type": "code",
   "execution_count": 80,
   "id": "2cd3d3b5",
   "metadata": {},
   "outputs": [],
   "source": [
    "# Calculate the proportion of reorder orders for each product and Merge with products DataFrame\n",
    "reorder_counts['reorder_proportion'] = reorder_counts['reorder_sum'] / reorder_counts['total_orders']\n",
    "reorder_proportions = reorder_counts.merge(products[['product_id', 'product_name']], on='product_id')"
   ]
  },
  {
   "cell_type": "code",
   "execution_count": 81,
   "id": "7dc70c01",
   "metadata": {},
   "outputs": [
    {
     "data": {
      "text/html": [
       "<div>\n",
       "<style scoped>\n",
       "    .dataframe tbody tr th:only-of-type {\n",
       "        vertical-align: middle;\n",
       "    }\n",
       "\n",
       "    .dataframe tbody tr th {\n",
       "        vertical-align: top;\n",
       "    }\n",
       "\n",
       "    .dataframe thead th {\n",
       "        text-align: right;\n",
       "    }\n",
       "</style>\n",
       "<table border=\"1\" class=\"dataframe\">\n",
       "  <thead>\n",
       "    <tr style=\"text-align: right;\">\n",
       "      <th></th>\n",
       "      <th>product_id</th>\n",
       "      <th>product_name</th>\n",
       "      <th>reorder_proportion</th>\n",
       "    </tr>\n",
       "  </thead>\n",
       "  <tbody>\n",
       "    <tr>\n",
       "      <th>0</th>\n",
       "      <td>1</td>\n",
       "      <td>chocolate sandwich cookies</td>\n",
       "      <td>0.564286</td>\n",
       "    </tr>\n",
       "    <tr>\n",
       "      <th>1</th>\n",
       "      <td>2</td>\n",
       "      <td>all-seasons salt</td>\n",
       "      <td>0.000000</td>\n",
       "    </tr>\n",
       "    <tr>\n",
       "      <th>2</th>\n",
       "      <td>3</td>\n",
       "      <td>robust golden unsweetened oolong tea</td>\n",
       "      <td>0.738095</td>\n",
       "    </tr>\n",
       "    <tr>\n",
       "      <th>3</th>\n",
       "      <td>4</td>\n",
       "      <td>smart ones classic favorites mini rigatoni wit...</td>\n",
       "      <td>0.510204</td>\n",
       "    </tr>\n",
       "    <tr>\n",
       "      <th>4</th>\n",
       "      <td>7</td>\n",
       "      <td>pure coconut water with orange</td>\n",
       "      <td>0.500000</td>\n",
       "    </tr>\n",
       "    <tr>\n",
       "      <th>...</th>\n",
       "      <td>...</td>\n",
       "      <td>...</td>\n",
       "      <td>...</td>\n",
       "    </tr>\n",
       "    <tr>\n",
       "      <th>45568</th>\n",
       "      <td>49690</td>\n",
       "      <td>high performance energy drink</td>\n",
       "      <td>0.800000</td>\n",
       "    </tr>\n",
       "    <tr>\n",
       "      <th>45569</th>\n",
       "      <td>49691</td>\n",
       "      <td>original pancake &amp; waffle mix</td>\n",
       "      <td>0.430556</td>\n",
       "    </tr>\n",
       "    <tr>\n",
       "      <th>45570</th>\n",
       "      <td>49692</td>\n",
       "      <td>organic instant oatmeal light maple brown sugar</td>\n",
       "      <td>0.416667</td>\n",
       "    </tr>\n",
       "    <tr>\n",
       "      <th>45571</th>\n",
       "      <td>49693</td>\n",
       "      <td>spring water body wash</td>\n",
       "      <td>0.440000</td>\n",
       "    </tr>\n",
       "    <tr>\n",
       "      <th>45572</th>\n",
       "      <td>49694</td>\n",
       "      <td>burrito- steak &amp; cheese</td>\n",
       "      <td>0.333333</td>\n",
       "    </tr>\n",
       "  </tbody>\n",
       "</table>\n",
       "<p>45573 rows × 3 columns</p>\n",
       "</div>"
      ],
      "text/plain": [
       "       product_id                                       product_name  \\\n",
       "0               1                         chocolate sandwich cookies   \n",
       "1               2                                   all-seasons salt   \n",
       "2               3               robust golden unsweetened oolong tea   \n",
       "3               4  smart ones classic favorites mini rigatoni wit...   \n",
       "4               7                     pure coconut water with orange   \n",
       "...           ...                                                ...   \n",
       "45568       49690                      high performance energy drink   \n",
       "45569       49691                      original pancake & waffle mix   \n",
       "45570       49692    organic instant oatmeal light maple brown sugar   \n",
       "45571       49693                             spring water body wash   \n",
       "45572       49694                            burrito- steak & cheese   \n",
       "\n",
       "       reorder_proportion  \n",
       "0                0.564286  \n",
       "1                0.000000  \n",
       "2                0.738095  \n",
       "3                0.510204  \n",
       "4                0.500000  \n",
       "...                   ...  \n",
       "45568            0.800000  \n",
       "45569            0.430556  \n",
       "45570            0.416667  \n",
       "45571            0.440000  \n",
       "45572            0.333333  \n",
       "\n",
       "[45573 rows x 3 columns]"
      ]
     },
     "metadata": {},
     "output_type": "display_data"
    }
   ],
   "source": [
    "# Display the proportion of reorder orders for each product\n",
    "display(reorder_proportions[['product_id', 'product_name', 'reorder_proportion']])"
   ]
  },
  {
   "cell_type": "markdown",
   "id": "ae9b1c7a",
   "metadata": {},
   "source": [
    "### [C4] For each customer, what proportion of their products ordered are reorders?"
   ]
  },
  {
   "cell_type": "code",
   "execution_count": 82,
   "id": "54d49fce",
   "metadata": {},
   "outputs": [
    {
     "data": {
      "text/html": [
       "<div>\n",
       "<style scoped>\n",
       "    .dataframe tbody tr th:only-of-type {\n",
       "        vertical-align: middle;\n",
       "    }\n",
       "\n",
       "    .dataframe tbody tr th {\n",
       "        vertical-align: top;\n",
       "    }\n",
       "\n",
       "    .dataframe thead th {\n",
       "        text-align: right;\n",
       "    }\n",
       "</style>\n",
       "<table border=\"1\" class=\"dataframe\">\n",
       "  <thead>\n",
       "    <tr style=\"text-align: right;\">\n",
       "      <th></th>\n",
       "      <th>user_id</th>\n",
       "      <th>reordered</th>\n",
       "      <th>total_products</th>\n",
       "      <th>reorder_proportion</th>\n",
       "    </tr>\n",
       "  </thead>\n",
       "  <tbody>\n",
       "    <tr>\n",
       "      <th>0</th>\n",
       "      <td>2</td>\n",
       "      <td>1</td>\n",
       "      <td>26</td>\n",
       "      <td>0.038462</td>\n",
       "    </tr>\n",
       "    <tr>\n",
       "      <th>1</th>\n",
       "      <td>4</td>\n",
       "      <td>0</td>\n",
       "      <td>2</td>\n",
       "      <td>0.000000</td>\n",
       "    </tr>\n",
       "    <tr>\n",
       "      <th>2</th>\n",
       "      <td>5</td>\n",
       "      <td>8</td>\n",
       "      <td>12</td>\n",
       "      <td>0.666667</td>\n",
       "    </tr>\n",
       "    <tr>\n",
       "      <th>3</th>\n",
       "      <td>6</td>\n",
       "      <td>0</td>\n",
       "      <td>4</td>\n",
       "      <td>0.000000</td>\n",
       "    </tr>\n",
       "    <tr>\n",
       "      <th>4</th>\n",
       "      <td>7</td>\n",
       "      <td>13</td>\n",
       "      <td>14</td>\n",
       "      <td>0.928571</td>\n",
       "    </tr>\n",
       "  </tbody>\n",
       "</table>\n",
       "</div>"
      ],
      "text/plain": [
       "   user_id  reordered  total_products  reorder_proportion\n",
       "0        2          1              26            0.038462\n",
       "1        4          0               2            0.000000\n",
       "2        5          8              12            0.666667\n",
       "3        6          0               4            0.000000\n",
       "4        7         13              14            0.928571"
      ]
     },
     "metadata": {},
     "output_type": "display_data"
    }
   ],
   "source": [
    "## MERGE order_products WITH instacart_orders TO GET customer_id ##\n",
    "order_products_with_customer = pd.merge(order_products, instacart_orders[['order_id', 'user_id']], on='order_id', how='left')\n",
    "\n",
    "# Group by user_id (which represents customers) and calculate the sum of the reordered column\n",
    "reordered_by_customer = order_products_with_customer.groupby('user_id')['reordered'].agg('sum').reset_index()\n",
    "\n",
    "# Group by user_id and calculate the total number of products ordered\n",
    "total_products_by_customer = order_products_with_customer.groupby('user_id').size().reset_index(name='total_products')\n",
    "\n",
    "# Merge the two DataFrames on 'user_id'\n",
    "merged_data_customer = pd.merge(reordered_by_customer, total_products_by_customer, on='user_id')\n",
    "\n",
    "# Calculate the proportion of reordered products\n",
    "merged_data_customer['reorder_proportion'] = merged_data_customer['reordered'] / merged_data_customer['total_products']\n",
    "\n",
    "## DISPLAY RESULT ##\n",
    "display(merged_data_customer.head())"
   ]
  },
  {
   "cell_type": "markdown",
   "id": "9a07b8db",
   "metadata": {},
   "source": [
    "### [C5] What are the top 20 items that people put in their carts first? "
   ]
  },
  {
   "cell_type": "code",
   "execution_count": 83,
   "id": "50d7c290",
   "metadata": {},
   "outputs": [
    {
     "data": {
      "text/html": [
       "<div>\n",
       "<style scoped>\n",
       "    .dataframe tbody tr th:only-of-type {\n",
       "        vertical-align: middle;\n",
       "    }\n",
       "\n",
       "    .dataframe tbody tr th {\n",
       "        vertical-align: top;\n",
       "    }\n",
       "\n",
       "    .dataframe thead th {\n",
       "        text-align: right;\n",
       "    }\n",
       "</style>\n",
       "<table border=\"1\" class=\"dataframe\">\n",
       "  <thead>\n",
       "    <tr style=\"text-align: right;\">\n",
       "      <th></th>\n",
       "      <th>product_id</th>\n",
       "      <th>product_name</th>\n",
       "      <th>count</th>\n",
       "    </tr>\n",
       "  </thead>\n",
       "  <tbody>\n",
       "    <tr>\n",
       "      <th>13414</th>\n",
       "      <td>24852</td>\n",
       "      <td>banana</td>\n",
       "      <td>15562</td>\n",
       "    </tr>\n",
       "    <tr>\n",
       "      <th>7127</th>\n",
       "      <td>13176</td>\n",
       "      <td>bag of organic bananas</td>\n",
       "      <td>11026</td>\n",
       "    </tr>\n",
       "    <tr>\n",
       "      <th>15028</th>\n",
       "      <td>27845</td>\n",
       "      <td>organic whole milk</td>\n",
       "      <td>4363</td>\n",
       "    </tr>\n",
       "    <tr>\n",
       "      <th>11384</th>\n",
       "      <td>21137</td>\n",
       "      <td>organic strawberries</td>\n",
       "      <td>3946</td>\n",
       "    </tr>\n",
       "    <tr>\n",
       "      <th>25439</th>\n",
       "      <td>47209</td>\n",
       "      <td>organic hass avocado</td>\n",
       "      <td>3390</td>\n",
       "    </tr>\n",
       "    <tr>\n",
       "      <th>11786</th>\n",
       "      <td>21903</td>\n",
       "      <td>organic baby spinach</td>\n",
       "      <td>3336</td>\n",
       "    </tr>\n",
       "    <tr>\n",
       "      <th>25732</th>\n",
       "      <td>47766</td>\n",
       "      <td>organic avocado</td>\n",
       "      <td>3044</td>\n",
       "    </tr>\n",
       "    <tr>\n",
       "      <th>10622</th>\n",
       "      <td>19660</td>\n",
       "      <td>spring water</td>\n",
       "      <td>2336</td>\n",
       "    </tr>\n",
       "    <tr>\n",
       "      <th>9050</th>\n",
       "      <td>16797</td>\n",
       "      <td>strawberries</td>\n",
       "      <td>2308</td>\n",
       "    </tr>\n",
       "    <tr>\n",
       "      <th>15102</th>\n",
       "      <td>27966</td>\n",
       "      <td>organic raspberries</td>\n",
       "      <td>2024</td>\n",
       "    </tr>\n",
       "    <tr>\n",
       "      <th>24024</th>\n",
       "      <td>44632</td>\n",
       "      <td>sparkling water grapefruit</td>\n",
       "      <td>1914</td>\n",
       "    </tr>\n",
       "    <tr>\n",
       "      <th>26519</th>\n",
       "      <td>49235</td>\n",
       "      <td>organic half &amp; half</td>\n",
       "      <td>1797</td>\n",
       "    </tr>\n",
       "    <tr>\n",
       "      <th>25658</th>\n",
       "      <td>47626</td>\n",
       "      <td>large lemon</td>\n",
       "      <td>1737</td>\n",
       "    </tr>\n",
       "    <tr>\n",
       "      <th>115</th>\n",
       "      <td>196</td>\n",
       "      <td>soda</td>\n",
       "      <td>1733</td>\n",
       "    </tr>\n",
       "    <tr>\n",
       "      <th>20853</th>\n",
       "      <td>38689</td>\n",
       "      <td>organic reduced fat milk</td>\n",
       "      <td>1397</td>\n",
       "    </tr>\n",
       "    <tr>\n",
       "      <th>14158</th>\n",
       "      <td>26209</td>\n",
       "      <td>limes</td>\n",
       "      <td>1370</td>\n",
       "    </tr>\n",
       "    <tr>\n",
       "      <th>6660</th>\n",
       "      <td>12341</td>\n",
       "      <td>hass avocados</td>\n",
       "      <td>1340</td>\n",
       "    </tr>\n",
       "    <tr>\n",
       "      <th>3153</th>\n",
       "      <td>5785</td>\n",
       "      <td>organic reduced fat 2% milk</td>\n",
       "      <td>1310</td>\n",
       "    </tr>\n",
       "    <tr>\n",
       "      <th>14639</th>\n",
       "      <td>27086</td>\n",
       "      <td>half &amp; half</td>\n",
       "      <td>1309</td>\n",
       "    </tr>\n",
       "    <tr>\n",
       "      <th>23335</th>\n",
       "      <td>43352</td>\n",
       "      <td>raspberries</td>\n",
       "      <td>1246</td>\n",
       "    </tr>\n",
       "  </tbody>\n",
       "</table>\n",
       "</div>"
      ],
      "text/plain": [
       "       product_id                 product_name  count\n",
       "13414       24852                       banana  15562\n",
       "7127        13176       bag of organic bananas  11026\n",
       "15028       27845           organic whole milk   4363\n",
       "11384       21137         organic strawberries   3946\n",
       "25439       47209         organic hass avocado   3390\n",
       "11786       21903         organic baby spinach   3336\n",
       "25732       47766              organic avocado   3044\n",
       "10622       19660                 spring water   2336\n",
       "9050        16797                 strawberries   2308\n",
       "15102       27966          organic raspberries   2024\n",
       "24024       44632   sparkling water grapefruit   1914\n",
       "26519       49235          organic half & half   1797\n",
       "25658       47626                  large lemon   1737\n",
       "115           196                         soda   1733\n",
       "20853       38689     organic reduced fat milk   1397\n",
       "14158       26209                        limes   1370\n",
       "6660        12341                hass avocados   1340\n",
       "3153         5785  organic reduced fat 2% milk   1310\n",
       "14639       27086                  half & half   1309\n",
       "23335       43352                  raspberries   1246"
      ]
     },
     "metadata": {},
     "output_type": "display_data"
    }
   ],
   "source": [
    "## Merge order_products with products to get product names ##\n",
    "merged_data = pd.merge(order_products, products[['product_id', 'product_name']], on='product_id', how='left')\n",
    "\n",
    "## Group by product_id and product_name, count occurrences, and sort ##\n",
    "top_20_first_items = merged_data[merged_data['add_to_cart_order'] == 1].groupby(['product_id', 'product_name']).size().reset_index(name='count').sort_values(by='count', ascending=False).head(20)\n",
    "\n",
    "## DISPLAY RESULT ##\n",
    "display(top_20_first_items)"
   ]
  },
  {
   "cell_type": "markdown",
   "id": "b2e1ec6b",
   "metadata": {},
   "source": [
    "## Conclusions:\n",
    "\n",
    "For each customer, the proportion of their products ordered that are reorders can help understand customer behavior regarding repeat purchases.\n",
    "\n",
    "Identifying the top 20 items that people put in their carts first can provide insights into popular initial choices, which can inform marketing strategies and product placement."
   ]
  },
  {
   "cell_type": "markdown",
   "id": "1d06ef98",
   "metadata": {},
   "source": [
    "## Final Conclusion:\n",
    "\n",
    "Order Patterns Analysis:\n",
    "\n",
    "- Hour of Day Distribution: I observed that most orders are placed during daytime hours, with peak times around mid-morning and early evening. This suggests that customers prefer to shop for groceries during these convenient hours, which can be attributed to their daily routines and schedules.\n",
    "- Day of Week Distribution: Saturdays and Sundays emerged as the busiest days for grocery shopping, with the highest number of orders. This trend indicates that customers tend to allocate their weekends for stocking up on groceries, possibly due to having more free time and fewer work commitments during these days.\n",
    "- Days Since Prior Order: The distribution of days since the prior order revealed that the majority of customers tend to reorder within a week, with peaks observed around 7 days (a week) and multiples of 7. \n",
    "- This indicates that customers often follow weekly shopping patterns, replenishing their supplies on a regular basis.\n",
    "\n",
    "Popular Products Analysis:\n",
    "\n",
    "- Top 20 Popular Products: By analyzing the frequency of product orders, I identified a diverse range of items among the top 20 popular products. Items such as bananas, organic fruits, dairy products, and fresh produce dominated the list. These findings highlight the importance of stocking up on staple items and fresh produce to meet customer demand and preferences.\n",
    "\n",
    "Customer Behavioral Analysis:\n",
    "\n",
    "- Items per Order Distribution: The distribution of items per order revealed a right-skewed distribution, indicating that most orders contain a moderate number of items. The mean number of items per order was approximately 10.10, with a median of 8.0 items. This suggests that customers typically purchase a reasonable quantity of items per order, balancing their needs and preferences.\n",
    "- Proportion of Reordered Products: By calculating the proportion of reordered products for each customer, I gained insights into customer loyalty and repeat purchases. Understanding the proportion of reordered products can help identify loyal customers and tailor marketing strategies to enhance customer retention.\n",
    "\n",
    "Cart Composition Analysis:\n",
    "\n",
    "- Analyzing the items that customers put in their carts first revealed popular initial purchase choices. Items such as bananas, organic fruits, dairy products, and beverages ranked among the top choices. These findings indicate customers' preferences for essential items and healthy options when initiating their shopping experience.\n",
    "\n",
    "Overall Business Implications:\n",
    "\n",
    "- Instacart can utilize these insights to optimize its operations, such as inventory management, product recommendations, and marketing strategies.By aligning stocking decisions with popular products and customer preferences, Instacart can enhance customer satisfaction and loyalty.Leveraging data-driven insights can also enable Instacart to personalize the shopping experience, improve recommendation algorithms, and drive business growth."
   ]
  },
  {
   "cell_type": "code",
   "execution_count": null,
   "id": "20372277",
   "metadata": {},
   "outputs": [],
   "source": []
  }
 ],
 "metadata": {
  "kernelspec": {
   "display_name": "my_venv",
   "language": "python",
   "name": "python3"
  },
  "language_info": {
   "codemirror_mode": {
    "name": "ipython",
    "version": 3
   },
   "file_extension": ".py",
   "mimetype": "text/x-python",
   "name": "python",
   "nbconvert_exporter": "python",
   "pygments_lexer": "ipython3",
   "version": "3.12.3"
  }
 },
 "nbformat": 4,
 "nbformat_minor": 5
}
